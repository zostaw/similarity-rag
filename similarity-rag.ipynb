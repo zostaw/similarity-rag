{
 "cells": [
  {
   "cell_type": "code",
   "execution_count": 1,
   "metadata": {},
   "outputs": [
    {
     "name": "stderr",
     "output_type": "stream",
     "text": [
      "/Users/zostaw/.pyenv/versions/3.12.2/envs/ai/lib/python3.12/site-packages/tqdm/auto.py:21: TqdmWarning: IProgress not found. Please update jupyter and ipywidgets. See https://ipywidgets.readthedocs.io/en/stable/user_install.html\n",
      "  from .autonotebook import tqdm as notebook_tqdm\n"
     ]
    }
   ],
   "source": [
    "from transformers import AutoModelForCausalLM, AutoTokenizer\n",
    "import torch\n",
    "from bs4 import BeautifulSoup\n",
    "from llama_cpp import Llama"
   ]
  },
  {
   "cell_type": "code",
   "execution_count": 2,
   "metadata": {},
   "outputs": [],
   "source": [
    "device = (\"cuda\" if torch.cuda.is_available() else \"mps\" if torch.backends.mps.is_available() else \"cpu\")"
   ]
  },
  {
   "cell_type": "code",
   "execution_count": 3,
   "metadata": {},
   "outputs": [],
   "source": [
    "model_path=\"./models/openhermes-2.5-mistral-7b-16k.Q5_K_M.gguf\"\n",
    "llm = Llama(\n",
    "        model_path=model_path,\n",
    "        n_ctx=4096,\n",
    "        temperature=0.7,\n",
    "        verbose=False,\n",
    "        n_gpu_layers=1,\n",
    "    )\n"
   ]
  },
  {
   "cell_type": "markdown",
   "metadata": {},
   "source": [
    "## Context 1"
   ]
  },
  {
   "cell_type": "code",
   "execution_count": 4,
   "metadata": {},
   "outputs": [],
   "source": [
    "context1 = \"\"\"\n",
    "Beautiful Soup is a Python library for parsing structured data. It allows you to interact with HTML in a similar way to how you interact with a web page using developer tools. The library exposes a couple of intuitive functions you can use to explore the HTML you received.\n",
    "\n",
    "\"\"\""
   ]
  },
  {
   "cell_type": "markdown",
   "metadata": {},
   "source": [
    "## Context 2"
   ]
  },
  {
   "cell_type": "code",
   "execution_count": 5,
   "metadata": {},
   "outputs": [],
   "source": [
    "context2 = \"\"\"\n",
    "```python\n",
    ">>> from bs4 import BeautifulSoup\n",
    ">>> soup = BeautifulSoup(\"<p>Some<b>bad<i>HTML\")\n",
    ">>> print(soup.prettify())\n",
    "<html>\n",
    " <body>\n",
    "  <p>\n",
    "   Some\n",
    "   <b>\n",
    "    bad\n",
    "    <i>\n",
    "     HTML\n",
    "    </i>\n",
    "   </b>\n",
    "  </p>\n",
    " </body>\n",
    "</html>\n",
    ">>> soup.find(text=\"bad\")\n",
    "'bad'\n",
    ">>> soup.i\n",
    "<i>HTML</i>\n",
    "#\n",
    ">>> soup = BeautifulSoup(\"<tag1>Some<tag2/>bad<tag3>XML\", \"xml\")\n",
    "#\n",
    ">>> print(soup.prettify())\n",
    "<?xml version=\"1.0\" encoding=\"utf-8\"?>\n",
    "<tag1>\n",
    " Some\n",
    " <tag2/>\n",
    " bad\n",
    " <tag3>\n",
    "  XML\n",
    " </tag3>\n",
    "</tag1>\n",
    "```\n",
    "\"\"\""
   ]
  },
  {
   "cell_type": "code",
   "execution_count": 6,
   "metadata": {},
   "outputs": [],
   "source": [
    "question = \"How to use BeautifulSoup?\""
   ]
  },
  {
   "cell_type": "code",
   "execution_count": 19,
   "metadata": {},
   "outputs": [],
   "source": [
    "prompt = f\"\"\"Answer this question with the help of provided contexts. Before responding stop and think about each of them, find how they related to each other or if there are important connections, then provide answer. If you find that some of the provided contexts does not matter, ignore it.\\n\n",
    "## CONTEXT 1\n",
    "{context1}\n",
    "## CONTEXT 2\n",
    "{context2}\n",
    "## QUESTION\n",
    "{question}\n",
    "## ANSWER\n",
    "\"\"\""
   ]
  },
  {
   "cell_type": "code",
   "execution_count": 20,
   "metadata": {},
   "outputs": [
    {
     "name": "stdout",
     "output_type": "stream",
     "text": [
      "Answer this question with the help of provided contexts. Before responding stop and think about each of them, find how they related to each other or if there are important connections, then provide answer. If you find that some of the provided contexts does not matter, ignore it.\n",
      "\n",
      "## CONTEXT 1 \n",
      "\n",
      "Beautiful Soup is a Python library for parsing structured data. It allows you to interact with HTML in a similar way to how you interact with a web page using developer tools. The library exposes a couple of intuitive functions you can use to explore the HTML you received.\n",
      "\n",
      " \n",
      "## CONTEXT 2 \n",
      "\n",
      "```python\n",
      ">>> from bs4 import BeautifulSoup\n",
      ">>> soup = BeautifulSoup(\"<p>Some<b>bad<i>HTML\")\n",
      ">>> print(soup.prettify())\n",
      "<html>\n",
      " <body>\n",
      "  <p>\n",
      "   Some\n",
      "   <b>\n",
      "    bad\n",
      "    <i>\n",
      "     HTML\n",
      "    </i>\n",
      "   </b>\n",
      "  </p>\n",
      " </body>\n",
      "</html>\n",
      ">>> soup.find(text=\"bad\")\n",
      "'bad'\n",
      ">>> soup.i\n",
      "<i>HTML</i>\n",
      "#\n",
      ">>> soup = BeautifulSoup(\"<tag1>Some<tag2/>bad<tag3>XML\", \"xml\")\n",
      "#\n",
      ">>> print(soup.prettify())\n",
      "<?xml version=\"1.0\" encoding=\"utf-8\"?>\n",
      "<tag1>\n",
      " Some\n",
      " <tag2/>\n",
      " bad\n",
      " <tag3>\n",
      "  XML\n",
      " </tag3>\n",
      "</tag1>\n",
      "```\n",
      " \n",
      "## QUESTION \n",
      "How to use BeautifulSoup? \n",
      "## ANSWER\n",
      "\n"
     ]
    }
   ],
   "source": [
    "print(prompt)"
   ]
  },
  {
   "cell_type": "code",
   "execution_count": 21,
   "metadata": {},
   "outputs": [],
   "source": [
    "output = llm(\n",
    "      prompt, # Prompt\n",
    "      max_tokens=2000, # Generate up to 32 tokens, set to None to generate up to the end of the context window\n",
    "      stop=[\"Q:\", \"\\n\"], # Stop generating just before the model would generate a new question\n",
    "      echo=False # Echo the prompt back in the output\n",
    ")"
   ]
  },
  {
   "cell_type": "code",
   "execution_count": 22,
   "metadata": {},
   "outputs": [
    {
     "data": {
      "text/plain": [
       "\"In order to use BeautifulSoup, you need to first import the library using `from bs4 import BeautifulSoup`. Then create a `BeautifulSoup` object, passing in your HTML and an optional parser (usually `'html.parser'`) as arguments, like so: `soup = BeautifulSoup(markup, 'html.parser')`. This object can be used to perform various operations on your HTML, such as finding tags and their text content, prettifying your HTML, etc.\""
      ]
     },
     "execution_count": 22,
     "metadata": {},
     "output_type": "execute_result"
    }
   ],
   "source": [
    "\n",
    "output[\"choices\"][0][\"text\"]"
   ]
  }
 ],
 "metadata": {
  "kernelspec": {
   "display_name": "ai",
   "language": "python",
   "name": "python3"
  },
  "language_info": {
   "codemirror_mode": {
    "name": "ipython",
    "version": 3
   },
   "file_extension": ".py",
   "mimetype": "text/x-python",
   "name": "python",
   "nbconvert_exporter": "python",
   "pygments_lexer": "ipython3",
   "version": "3.12.2"
  }
 },
 "nbformat": 4,
 "nbformat_minor": 2
}
